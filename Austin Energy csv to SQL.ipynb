{
 "cells": [
  {
   "cell_type": "markdown",
   "metadata": {},
   "source": [
    "# Energy data from CSV into PostgreSQL\n",
    "The goal of this project is to transform a CSV file containing Austin energy data into a PostgreSQL database. We'll be going through the following steps:\n",
    "1. Understand the data from the CSV file\n",
    "2. Create a SQL table that fits the data\n",
    "3. Import a single value to the database\n",
    "4. Import all the rows\n"
   ]
  },
  {
   "cell_type": "markdown",
   "metadata": {},
   "source": [
    "# Step 1: Understanding the data from the CSV file"
   ]
  },
  {
   "cell_type": "code",
   "execution_count": 42,
   "metadata": {},
   "outputs": [
    {
     "name": "stdout",
     "output_type": "stream",
     "text": [
      "['Date', 'Average kWh', 'Fuel Charge (Cents/kWh)', 'Average Bill']\n",
      "['01/01/2000 12:00:00 AM', '820', '1.372', '$54.26']\n",
      "['02/01/2000 12:00:00 AM', '766', '1.372', '$50.27']\n"
     ]
    }
   ],
   "source": [
    "import psycopg2\n",
    "import csv\n",
    "with open('Residential_Average_Monthly_kWh_and_Bills.csv', 'r') as f:\n",
    "    reader = csv.reader(f)\n",
    "    columns = next(reader)\n",
    "    first_row = next(reader)\n",
    "    second_row = next(reader)\n",
    "    print(columns)\n",
    "    print(first_row)\n",
    "    print(second_row)"
   ]
  },
  {
   "cell_type": "markdown",
   "metadata": {},
   "source": [
    "So we have data in four columns, first is date, then info about energy consuption and billing."
   ]
  },
  {
   "cell_type": "markdown",
   "metadata": {},
   "source": [
    "# Step 2: Create a PostgreSQL table for the data"
   ]
  },
  {
   "cell_type": "code",
   "execution_count": 43,
   "metadata": {},
   "outputs": [
    {
     "name": "stdout",
     "output_type": "stream",
     "text": [
      "connected to austin_weather_energy\n",
      "Columns in database:\n",
      "['id', 'date', 'kwh', 'fuel_charge', 'average_bill']\n",
      "Values in database:\n"
     ]
    }
   ],
   "source": [
    "sql_create_energy_table = \"\"\"CREATE TABLE IF NOT EXISTS energy(\n",
    "                                ID SERIAL PRIMARY KEY,\n",
    "                                date date,\n",
    "                                kWh integer,\n",
    "                                Fuel_Charge real,\n",
    "                                average_bill real\n",
    "                                )\"\"\"   \n",
    "\n",
    "# create a connection with the database (this should already exist)\n",
    "try:\n",
    "    connection = psycopg2.connect(\"dbname='austin_weather_energy' user='muriel' host='localhost' password='1'\")\n",
    "    print(\"connected to austin_weather_energy\")\n",
    "except:\n",
    "    print(\"Unable to connect to the database\")\n",
    "# the cursor can help us execute SQL\n",
    "cursor = connection.cursor()\n",
    "\n",
    "# delete the table if it already exists\n",
    "sql = \"\"\"DROP table energy\"\"\"\n",
    "cursor.execute(sql)\n",
    "connection.commit()\n",
    "\n",
    "# now let's create the table\n",
    "cursor.execute(sql_create_energy_table)\n",
    "# and commit to the DB\n",
    "connection.commit()\n",
    "\n",
    "# next, let's print the column names to see if it worked:\n",
    "\n",
    "\n",
    "def print_values():\n",
    "    cursor.execute(\"SELECT * from energy\")\n",
    "    colnames = [desc[0] for desc in cursor.description]\n",
    "    print(\"Columns in database:\")\n",
    "    print(colnames)\n",
    "    rows = cursor.fetchall()\n",
    "    print(\"Values in database:\")\n",
    "    for row in rows[0:4]: #only print first 5 rows to avoid clutter\n",
    "        print(\" \", row)\n",
    "    connection.commit()\n",
    "\n",
    "# print the first 5 values     \n",
    "print_values()"
   ]
  },
  {
   "cell_type": "markdown",
   "metadata": {},
   "source": [
    "# Step 3: Import a single value into the Database\n",
    "Let's get started wiht the first value in the databse, make sure we can add that, then proceed to more values."
   ]
  },
  {
   "cell_type": "code",
   "execution_count": 44,
   "metadata": {},
   "outputs": [
    {
     "name": "stdout",
     "output_type": "stream",
     "text": [
      "01/01/2000 12:00:00 AM\n",
      "INSERT INTO energy(date) VALUES ('01/01/2000 12:00:00 AM')\n",
      "Columns in database:\n",
      "['id', 'date', 'kwh', 'fuel_charge', 'average_bill']\n",
      "Values in database:\n",
      "  (1, datetime.date(2000, 1, 1), None, None, None)\n"
     ]
    }
   ],
   "source": [
    "# now let's try to add a single value to the database\n",
    "print(first_row[0])\n",
    "sql = \"\"\"INSERT INTO energy(date) VALUES (%r)\"\"\" %(first_row[0])\n",
    "print(sql)\n",
    "cursor.execute(sql)\n",
    "connection.commit()\n",
    "print_values()"
   ]
  },
  {
   "cell_type": "markdown",
   "metadata": {},
   "source": [
    "# Step 4: Import all rows\n",
    "Now we're ready to import all the rows. First let's clean up the table we created earlier and create a new table, then we can import all the data. "
   ]
  },
  {
   "cell_type": "code",
   "execution_count": 45,
   "metadata": {},
   "outputs": [],
   "source": [
    "# delete the table if it already exists\n",
    "sql = \"\"\"DROP table energy\"\"\"\n",
    "cursor.execute(sql)\n",
    "connection.commit()\n",
    "\n",
    "# now let's create the table\n",
    "cursor.execute(sql_create_energy_table)\n",
    "# and commit to the DB\n",
    "connection.commit()"
   ]
  },
  {
   "cell_type": "code",
   "execution_count": 46,
   "metadata": {},
   "outputs": [],
   "source": [
    "with open('Residential_Average_Monthly_kWh_and_Bills.csv', 'r') as f:\n",
    "    reader = csv.reader(f)\n",
    "    columns = next(reader)\n",
    "    f.seek(0)\n",
    "    for row in f:\n",
    "        my_row = next(reader)\n",
    "        my_row[0] = \"'\"+my_row[0]+\"'\"\n",
    "        my_row[3] = my_row[3].strip('$')\n",
    "        sql = \"\"\"INSERT INTO energy(date, kwh, fuel_charge, average_bill) VALUES ({0})\"\"\"\n",
    "        sql = sql.format(','.join(my_row))\n",
    "        cursor.execute(sql)\n",
    "connection.commit()\n",
    "# hurrah! It works :)"
   ]
  },
  {
   "cell_type": "code",
   "execution_count": 47,
   "metadata": {},
   "outputs": [
    {
     "name": "stdout",
     "output_type": "stream",
     "text": [
      "Columns in database:\n",
      "['id', 'date', 'kwh', 'fuel_charge', 'average_bill']\n",
      "Values in database:\n",
      "  (1, datetime.date(2000, 1, 1), 820, 1.372, 54.26)\n",
      "  (2, datetime.date(2000, 3, 1), 707, 1.372, 45.91)\n",
      "  (3, datetime.date(2000, 5, 1), 838, 1.372, 61.68)\n",
      "  (4, datetime.date(2000, 7, 1), 1442, 1.372, 117.2)\n"
     ]
    }
   ],
   "source": [
    "# print the first 5 values     \n",
    "print_values()"
   ]
  },
  {
   "cell_type": "code",
   "execution_count": 48,
   "metadata": {},
   "outputs": [],
   "source": [
    "connection.close()\n",
    "cursor.close()"
   ]
  }
 ],
 "metadata": {
  "kernelspec": {
   "display_name": "Python 3",
   "language": "python",
   "name": "python3"
  },
  "language_info": {
   "codemirror_mode": {
    "name": "ipython",
    "version": 3
   },
   "file_extension": ".py",
   "mimetype": "text/x-python",
   "name": "python",
   "nbconvert_exporter": "python",
   "pygments_lexer": "ipython3",
   "version": "3.6.4"
  }
 },
 "nbformat": 4,
 "nbformat_minor": 2
}
